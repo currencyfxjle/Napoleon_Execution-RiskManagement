{
  "nbformat": 4,
  "nbformat_minor": 0,
  "metadata": {
    "colab": {
      "provenance": [],
      "authorship_tag": "ABX9TyMiBEhKqZraiI3jJpfixAw0",
      "include_colab_link": true
    },
    "kernelspec": {
      "name": "python3",
      "display_name": "Python 3"
    },
    "language_info": {
      "name": "python"
    }
  },
  "cells": [
    {
      "cell_type": "markdown",
      "metadata": {
        "id": "view-in-github",
        "colab_type": "text"
      },
      "source": [
        "<a href=\"https://colab.research.google.com/github/currencyfxjle/Napoleon_Execution-RiskManagement/blob/main/Napoleon_Execution%26RiskManagement_EA.ipynb\" target=\"_parent\"><img src=\"https://colab.research.google.com/assets/colab-badge.svg\" alt=\"Open In Colab\"/></a>"
      ]
    },
    {
      "cell_type": "code",
      "source": [
        "# COST FUNCTION\n",
        "# OPTIMIZATION VARIABLES\n",
        "# FIXED PARAMETERS"
      ],
      "metadata": {
        "id": "VyIaiyuuq3Kx"
      },
      "execution_count": 1,
      "outputs": []
    },
    {
      "cell_type": "markdown",
      "source": [
        "**Cost Functions**\n",
        "The cost functions will include:\n",
        "\n",
        "- Net profit and loss (PnL)\n",
        "- Maximum drawdown\n",
        "- Daily and monthly profit/loss limits\n",
        "- Optimization Variables\n",
        "\n",
        "**The optimization variables for the strategy parameters will be:**\n",
        "\n",
        "- tp_in_pips: Take profit distance in pips\n",
        "- multiplier: Multiplier for lot size adjustment\n",
        "- bb_period: Period for Bollinger Bands calculation\n",
        "- bb_devfactor: Standard deviation factor for Bollinger Bands\n",
        "- partial_profit_pct: Percentage of position to close at partial profit\n",
        "- partial_profit_distance_pct: Percentage of tp_in_pips to set partial profit distance\n",
        "\n",
        "**Fixed Parameters**\n",
        "Fixed parameters include:\n",
        "\n",
        "- initial_lot_size: 0.01\n",
        "- max_lot_size: 7\n",
        "- max_spread: 10\n",
        "- _Point: 0"
      ],
      "metadata": {
        "id": "iVWXLffroGK7"
      }
    },
    {
      "cell_type": "code",
      "source": [
        "# STRATEGY EXECUTION FOR BUY & SELL"
      ],
      "metadata": {
        "id": "sBfzhcYGtlm7"
      },
      "execution_count": 11,
      "outputs": []
    },
    {
      "cell_type": "markdown",
      "source": [
        "**STRATEGY DESCRIPTION ON BUY'S & SELL'S EXECUTION CRITERIA**"
      ],
      "metadata": {
        "id": "dEGf7C9Hqs4P"
      }
    },
    {
      "cell_type": "markdown",
      "source": [
        "**Buys & Sells Execution Criteria**\n",
        "\n",
        "The NapoleonEA strategy uses Bollinger Bands to determine buy and sell signals under two contexts: mean reversion and trend following.\n",
        "\n",
        "- **Trend Following:**\n",
        "\n",
        "Buy Signal (Trend Following):\n",
        "\n",
        "A buy signal is generated if the price is below the upper Bollinger Band for two consecutive periods and the current closing price is above the current opening price.\n",
        "This indicates a potential upward trend after the price has been trading below the upper band.\n"
      ],
      "metadata": {
        "id": "_h72kXk0q__g"
      }
    },
    {
      "cell_type": "code",
      "source": [
        "def check_buy_signal_trend(self):\n",
        "    return (self.data.close[-2] < self.bbands.lines.top[-2] and\n",
        "            self.data.close[-1] < self.bbands.lines.top[-1] and\n",
        "            self.data.close[-1] > self.data.open[-1])"
      ],
      "metadata": {
        "id": "sSzzVWsie9Aj"
      },
      "execution_count": 2,
      "outputs": []
    },
    {
      "cell_type": "markdown",
      "source": [
        "- **Sell Signal (Trend Following):**\n",
        "\n",
        "A sell signal is generated if the price is above the lower Bollinger Band for two consecutive periods and the current closing price is below the current opening price.\n",
        "This indicates a potential downward trend after the price has been trading above the lower band.\n"
      ],
      "metadata": {
        "id": "LgGc3VB5rcw-"
      }
    },
    {
      "cell_type": "code",
      "source": [
        "def check_sell_signal_trend(self):\n",
        "    return (self.data.close[-2] > self.bbands.lines.bot[-2] and\n",
        "            self.data.close[-1] > self.bbands.lines.bot[-1] and\n",
        "            self.data.close[-1] < self.data.open[-1])"
      ],
      "metadata": {
        "id": "i9Lv4JrVrbMl"
      },
      "execution_count": 4,
      "outputs": []
    },
    {
      "cell_type": "markdown",
      "source": [
        "**Mean Reversion:**\n",
        "\n",
        "- **Buy Signal (Mean Reversion):**\n",
        "\n",
        "A buy signal is generated if the price crosses below the lower Bollinger Band in the previous period and then crosses back above it, or if the current price is below the lower band but higher than the low of the current period.\n",
        "This suggests a potential reversal from oversold conditions."
      ],
      "metadata": {
        "id": "mSocHWF5rnX4"
      }
    },
    {
      "cell_type": "code",
      "source": [
        "def check_buy_signal_counter(self):\n",
        "    return ((self.data.close[-2] > self.bbands.lines.bot[-2] and\n",
        "             self.data.close[-1] < self.bbands.lines.bot[-1]) or\n",
        "            (self.data.close[-1] < self.bbands.lines.bot[-1] and\n",
        "             self.data.close[-1] > self.data.low[-1]))"
      ],
      "metadata": {
        "id": "-tWi-zN0rfzR"
      },
      "execution_count": 5,
      "outputs": []
    },
    {
      "cell_type": "markdown",
      "source": [
        "**Sell Signal (Mean Reversion):**\n",
        "\n",
        "A sell signal is generated if the price crosses above the upper Bollinger Band in the previous period and then crosses back below it, or if the current price is above the upper band but lower than the high of the current period.\n",
        "This suggests a potential reversal from overbought conditions."
      ],
      "metadata": {
        "id": "-Jz2Ukrvr6Iz"
      }
    },
    {
      "cell_type": "code",
      "source": [
        "def check_sell_signal_counter(self):\n",
        "    return ((self.data.close[-2] < self.bbands.lines.top[-2] and\n",
        "             self.data.close[-1] > self.bbands.lines.top[-1]) or\n",
        "            (self.data.close[-1] > self.bbands.lines.top[-1] and\n",
        "             self.data.close[-1] < self.data.high[-1]))"
      ],
      "metadata": {
        "id": "mm4OX1Ekr4cZ"
      },
      "execution_count": 6,
      "outputs": []
    },
    {
      "cell_type": "markdown",
      "source": [
        "**Execution:**\n",
        "\n",
        "Once a buy or sell signal is detected, the strategy opens a market trade with the current lot size.\n",
        "Take profit levels are set for partial and full exits based on the parameters."
      ],
      "metadata": {
        "id": "IY8XmACZsGhi"
      }
    },
    {
      "cell_type": "code",
      "source": [
        "def execute_trading_signals(self):\n",
        "    if self.get_total_buy_orders_count() == 0 and (self.check_buy_signal_trend() or self.check_buy_signal_counter()):\n",
        "        tp_price_full = self.data.close[0] + (self.params.tp_in_pips * self.params._Point * 10)\n",
        "        tp_price_partial = self.data.close[0] + (self.params.tp_in_pips * self.params.partial_profit_distance_pct / 100 * self.params._Point * 10)\n",
        "        self.order = self.open_market_trade(self.current_lot_size, tp_price_partial, tp_price_full)\n",
        "    if self.get_total_sell_orders_count() == 0 and (self.check_sell_signal_trend() or self.check_sell_signal_counter()):\n",
        "        tp_price_full = self.data.close[0] - (self.params.tp_in_pips * self.params._Point * 10)\n",
        "        tp_price_partial = self.data.close[0] - (self.params.tp_in_pips * self.params.partial_profit_distance_pct / 100 * self.params._Point * 10)\n",
        "        self.order = self.open_market_trade(-self.current_lot_size, tp_price_partial, tp_price_full)"
      ],
      "metadata": {
        "id": "kmwHcMy8sDP_"
      },
      "execution_count": 7,
      "outputs": []
    },
    {
      "cell_type": "code",
      "source": [
        "# RISK MANAGEMENT"
      ],
      "metadata": {
        "id": "5mTNC2ffxZ-n"
      },
      "execution_count": 12,
      "outputs": []
    },
    {
      "cell_type": "markdown",
      "source": [
        "**RISK MANAGEMENT SECTION CRITERIA**"
      ],
      "metadata": {
        "id": "ps-K5r8Asb6f"
      }
    },
    {
      "cell_type": "markdown",
      "source": [
        "**Risk Management Approach**\n",
        "\n",
        "The NapoleonEA strategy implements multiple layers of risk management, including drawdown control, daily profit/loss limits, and a Martingale approach for lot size adjustment.\n",
        "\n",
        "- **Drawdown Management:**\n",
        "\n",
        "The strategy tracks the highest account balance and calculates the drawdown from this peak.\n",
        "\n",
        "If the drawdown exceeds a specified percentage (close_on_drawdown_percent), all trades are closed to prevent further losses."
      ],
      "metadata": {
        "id": "ljLaoC_2sNhM"
      }
    },
    {
      "cell_type": "code",
      "source": [
        "def manage_drawdown(self):\n",
        "    current_balance = self.broker.getvalue()\n",
        "    if current_balance > self.highest_account_balance:\n",
        "        self.highest_account_balance = current_balance\n",
        "    drawdown = (self.highest_account_balance - current_balance) / self.highest_account_balance * 100\n",
        "    if drawdown > self.params.close_on_drawdown_percent:\n",
        "        self.log(f'Drawdown exceeded {self.params.close_on_drawdown_percent}%, closing all trades.')\n",
        "        self.close_all_trades()"
      ],
      "metadata": {
        "id": "fqfYVruSsKo6"
      },
      "execution_count": 8,
      "outputs": []
    },
    {
      "cell_type": "markdown",
      "source": [
        "- **Daily and Monthly Limits:**\n",
        "\n",
        "The strategy monitors daily losses and profits. If the daily loss exceeds a specified limit (daily_sl), all trades are closed.\n",
        "\n",
        "Similarly, if the realized daily profit exceeds a specified limit (max_daily_profit), all trades are closed.\n"
      ],
      "metadata": {
        "id": "FPuwoFxJskBH"
      }
    },
    {
      "cell_type": "code",
      "source": [
        "def check_daily_limits(self):\n",
        "    daily_loss_limit = self.starting_balance * (self.params.daily_sl / 100)\n",
        "    current_balance = self.broker.getvalue()\n",
        "    daily_loss = self.starting_balance - current_balance\n",
        "    if daily_loss > daily_loss_limit:\n",
        "        self.log(f'Daily loss limit exceeded: {daily_loss} > {daily_loss_limit}, all trades closed.')\n",
        "        self.close_all_trades()\n",
        "    elif self.realized_daily_profit > self.params.max_daily_profit:\n",
        "        self.log('Daily profit target achieved, all trades closed.')\n",
        "        self.close_all_trades()"
      ],
      "metadata": {
        "id": "CvsqgdX7sYAV"
      },
      "execution_count": 9,
      "outputs": []
    },
    {
      "cell_type": "markdown",
      "source": [
        "**Martingale Strategy:**\n",
        "\n",
        "- **The Martingale approach adjusts the lot size based on winning and losing streaks:**\n",
        "\n",
        "After a losing trade, the lot size is increased by a specified multiplier (multiplier) up to a maximum lot size (max_lot_size) to recover losses faster.\n",
        "\n",
        "After a winning trade, the lot size is decreased to the initial lot size or reduced by the multiplier to lock in profits."
      ],
      "metadata": {
        "id": "iMDLIY2ystUz"
      }
    },
    {
      "cell_type": "code",
      "source": [
        "def adjust_lot_size(self):\n",
        "    if self.winning_streak > 0:\n",
        "        self.current_lot_size = max(self.params.initial_lot_size, self.current_lot_size / self.params.multiplier)\n",
        "    elif self.losing_streak > 0:\n",
        "        self.current_lot_size = min(self.params.max_lot_size, self.current_lot_size * self.params.multiplier)\n"
      ],
      "metadata": {
        "id": "Yr1AgxQdsqEA"
      },
      "execution_count": 10,
      "outputs": []
    },
    {
      "cell_type": "markdown",
      "source": [
        "**FULL CODE**"
      ],
      "metadata": {
        "id": "TTxmVi1CtCNU"
      }
    },
    {
      "cell_type": "code",
      "source": [
        "!pip install backtrader pandas\n",
        "import backtrader as bt\n",
        "import pandas as pd\n",
        "from datetime import datetime"
      ],
      "metadata": {
        "id": "wkGGzG2Pxeha"
      },
      "execution_count": null,
      "outputs": []
    },
    {
      "cell_type": "code",
      "source": [
        "import backtrader as bt\n",
        "import pandas as pd\n",
        "import json\n",
        "\n",
        "class NapoleonEA(bt.Strategy):\n",
        "    params = (\n",
        "        ('initial_lot_size', 0.01),\n",
        "        ('tp_in_pips', 5),\n",
        "        ('multiplier', 1.05),\n",
        "        ('max_lot_size', 7),\n",
        "        ('bb_period', 20),\n",
        "        ('bb_devfactor', 1),\n",
        "        ('max_spread', 10),\n",
        "        ('_Point', 0.00001),\n",
        "        ('max_daily_loss', 100),\n",
        "        ('max_monthly_profit', 500),\n",
        "        ('close_on_drawdown_percent', 5),\n",
        "        ('max_daily_profit', 200),\n",
        "        ('daily_sl', 1),\n",
        "        ('partial_profit_pct', 50),\n",
        "        ('partial_profit_distance_pct', 30),\n",
        "    )\n",
        "\n",
        "    def __init__(self):\n",
        "        self.order = None\n",
        "        self.open_trades = {}\n",
        "        self.order_ref_to_trade_id = {}\n",
        "        self.bbands = bt.indicators.BollingerBands(period=self.params.bb_period, devfactor=self.params.bb_devfactor)\n",
        "        self.realized_daily_profit = 0\n",
        "        self.realized_monthly_profit = 0\n",
        "        self.last_check_date = self.data.datetime.datetime(0).date()\n",
        "        self.highest_account_balance = self.broker.getvalue()\n",
        "        self.lot_multiplier = self.params.multiplier\n",
        "        self.equity_curve = []\n",
        "        self.max_drawdown = 0\n",
        "        self.starting_balance = self.broker.getvalue()\n",
        "        self.winning_streak = 0\n",
        "        self.losing_streak = 0\n",
        "        self.current_lot_size = self.params.initial_lot_size\n",
        "\n",
        "    def notify_order(self, order):\n",
        "        if order.status in [bt.Order.Completed]:\n",
        "            trade_id = self.order_ref_to_trade_id[order.ref]\n",
        "            if trade_id in self.open_trades:\n",
        "                self.log(f'Order executed: {order.ref}, Price: {order.executed.price}')\n",
        "        elif order.status in [bt.Order.Canceled, bt.Order.Margin, bt.Order.Rejected]:\n",
        "            self.log(f'Order Canceled/Margin/Rejected: {order.ref}')\n",
        "            if order.ref in self.order_ref_to_trade_id:\n",
        "                trade_id = self.order_ref_to_trade_id[order.ref]\n",
        "                if trade_id in self.open_trades:\n",
        "                    del self.open_trades[trade_id]\n",
        "                del self.order_ref_to_trade_id[order.ref]\n",
        "\n",
        "    def notify_trade(self, trade):\n",
        "        if trade.isclosed:\n",
        "            trade_ids_to_remove = []\n",
        "            for order_ref, trade_id in self.order_ref_to_trade_id.items():\n",
        "                if trade_id in self.open_trades:\n",
        "                    del self.open_trades[trade_id]\n",
        "                    trade_ids_to_remove.append(order_ref)\n",
        "                    self.log(f'Trade: {trade_id}')\n",
        "            for order_ref in trade_ids_to_remove:\n",
        "                del self.order_ref_to_trade_id[order_ref]\n",
        "            profit = trade.pnlcomm\n",
        "            self.realized_daily_profit += profit\n",
        "            self.realized_monthly_profit += profit\n",
        "            if profit > 0:\n",
        "                self.winning_streak += 1\n",
        "                self.losing_streak = 0\n",
        "            else:\n",
        "                self.losing_streak += 1\n",
        "                self.winning_streak = 0\n",
        "            self.adjust_lot_size()\n",
        "\n",
        "    def log(self, txt, dt=None):\n",
        "        dt = dt or self.datas[0].datetime.date(0)\n",
        "        print(f'{dt.isoformat()}, {txt}')\n",
        "\n",
        "    def next(self):\n",
        "        self.manage_drawdown()\n",
        "        self.check_daily_limits()\n",
        "        self.update_equity_curve()\n",
        "        self.execute_trading_signals()\n",
        "\n",
        "    def execute_trading_signals(self):\n",
        "        if self.get_total_buy_orders_count() == 0 and (self.check_buy_signal_trend() or self.check_buy_signal_counter()):\n",
        "            tp_price_full = self.data.close[0] + (self.params.tp_in_pips * self.params._Point * 10)\n",
        "            tp_price_partial = self.data.close[0] + (self.params.tp_in_pips * self.params.partial_profit_distance_pct / 100 * self.params._Point * 10)\n",
        "            self.order = self.open_market_trade(self.current_lot_size, tp_price_partial, tp_price_full)\n",
        "        if self.get_total_sell_orders_count() == 0 and (self.check_sell_signal_trend() or self.check_sell_signal_counter()):\n",
        "            tp_price_full = self.data.close[0] - (self.params.tp_in_pips * self.params._Point * 10)\n",
        "            tp_price_partial = self.data.close[0] - (self.params.tp_in_pips * self.params.partial_profit_distance_pct / 100 * self.params._Point * 10)\n",
        "            self.order = self.open_market_trade(-self.current_lot_size, tp_price_partial, tp_price_full)\n",
        "\n",
        "    def open_market_trade(self, lots, tp_price_partial, tp_price_full):\n",
        "        order = self.buy(size=lots, exectype=bt.Order.Market) if lots > 0 else self.sell(size=-lots, exectype=bt.Order.Market)\n",
        "        trade_id = f\"{order.ref}_{self.data.datetime.date(0)}\"\n",
        "        self.order_ref_to_trade_id[order.ref] = trade_id\n",
        "        self.open_trades[trade_id] = {\n",
        "            'price': order.executed.price,\n",
        "            'size': abs(lots),\n",
        "            'type': 'buy' if lots > 0 else 'sell',\n",
        "            'open_time': self.data.num2date(order.executed.dt),\n",
        "            'tp_price_partial': tp_price_partial,\n",
        "            'tp_price_full': tp_price_full\n",
        "        }\n",
        "        return order\n",
        "\n",
        "    def check_buy_signal_trend(self):\n",
        "        return (self.data.close[-2] < self.bbands.lines.top[-2] and\n",
        "                self.data.close[-1] < self.bbands.lines.top[-1] and\n",
        "                self.data.close[-1] > self.data.open[-1])\n",
        "\n",
        "    def check_buy_signal_counter(self):\n",
        "        return ((self.data.close[-2] > self.bbands.lines.bot[-2] and\n",
        "                 self.data.close[-1] < self.bbands.lines.bot[-1]) or\n",
        "                (self.data.close[-1] < self.bbands.lines.bot[-1] and\n",
        "                 self.data.close[-1] > self.data.low[-1]))\n",
        "\n",
        "    def check_sell_signal_trend(self):\n",
        "        return (self.data.close[-2] > self.bbands.lines.bot[-2] and\n",
        "                self.data.close[-1] > self.bbands.lines.bot[-1] and\n",
        "                self.data.close[-1] < self.data.open[-1])\n",
        "\n",
        "    def check_sell_signal_counter(self):\n",
        "        return ((self.data.close[-2] < self.bbands.lines.top[-2] and\n",
        "                 self.data.close[-1] > self.bbands.lines.top[-1]) or\n",
        "                (self.data.close[-1] > self.bbands.lines.top[-1] and\n",
        "                 self.data.close[-1] < self.data.high[-1]))\n",
        "\n",
        "    def manage_drawdown(self):\n",
        "        current_balance = self.broker.getvalue()\n",
        "        if current_balance > self.highest_account_balance:\n",
        "            self.highest_account_balance = current_balance\n",
        "        drawdown = (self.highest_account_balance - current_balance) / self.highest_account_balance * 100\n",
        "        if drawdown > self.params.close_on_drawdown_percent:\n",
        "            self.log(f'Drawdown exceeded {self.params.close_on_drawdown_percent}%, closing all trades.')\n",
        "            self.close_all_trades()\n",
        "\n",
        "    def close_all_trades(self):\n",
        "        for trade_id in list(self.open_trades.keys()):\n",
        "            self.close(self.open_trades[trade_id]['size'])\n",
        "            self.log('All positions closed due to drawdown.')\n",
        "\n",
        "    def check_daily_limits(self):\n",
        "        daily_loss_limit = self.starting_balance * (self.params.daily_sl / 100)\n",
        "        current_balance = self.broker.getvalue()\n",
        "        daily_loss = self.starting_balance - current_balance\n",
        "        if daily_loss > daily_loss_limit:\n",
        "            self.log(f'Daily loss limit exceeded: {daily_loss} > {daily_loss_limit}, all trades closed.')\n",
        "            self.close_all_trades()\n",
        "        elif self.realized_daily_profit > self.params.max_daily_profit:\n",
        "            self.log('Daily profit target achieved, all trades closed.')\n",
        "            self.close_all_trades()\n",
        "\n",
        "    def adjust_lot_size(self):\n",
        "        if self.winning_streak > 0:\n",
        "            self.current_lot_size = max(self.params.initial_lot_size, self.current_lot_size / self.params.multiplier)\n",
        "        elif self.losing_streak > 0:\n",
        "            self.current_lot_size = min(self.params.max_lot_size, self.current_lot_size * self.params.multiplier)\n",
        "\n",
        "    def update_equity_curve(self):\n",
        "        current_balance = self.broker.getvalue()\n",
        "        self.equity_curve.append(current_balance)\n",
        "        peak = max(self.equity_curve, default=current_balance)\n",
        "        drawdown = (peak - current_balance) / peak\n",
        "        self.max_drawdown = max(self.max_drawdown, drawdown)\n",
        "\n",
        "    def get_total_buy_orders_count(self):\n",
        "        return sum(1 for trade_id, trade in self.open_trades.items() if trade['type'] == 'buy')\n",
        "\n",
        "    def get_total_sell_orders_count(self):\n",
        "        return sum(1 for trade_id, trade in self.open_trades.items() if trade['type'] == 'sell')"
      ],
      "metadata": {
        "id": "x85Z9QIBs1nH"
      },
      "execution_count": null,
      "outputs": []
    },
    {
      "cell_type": "markdown",
      "source": [
        "**GRID_SEARCH_OPTIMIZATION**"
      ],
      "metadata": {
        "id": "1zsbWdir1g7x"
      }
    },
    {
      "cell_type": "code",
      "source": [
        "# Load data\n",
        "data = pd.read_csv('/content/1MIN_EURUSD_OHLC.csv', index_col='DateTime', parse_dates=True)\n",
        "data_feed = bt.feeds.PandasData(dataname=data)\n",
        "\n",
        "# Define the range of parameters to search\n",
        "param_grid = {\n",
        "    'tp_in_pips': [5, 7, 10],\n",
        "    'multiplier': [1.05, 1.1],\n",
        "    'max_lot_size': [7, 10],\n",
        "    'bb_period': [20, 30],\n",
        "    'bb_devfactor': [1, 2],\n",
        "    'close_on_drawdown_percent': [3, 5, 8],\n",
        "    'partial_profit_pct': [25, 50, 75],\n",
        "    'partial_profit_distance_pct': [30, 50],\n",
        "}\n",
        "\n",
        "# Create a parameter grid\n",
        "param_combinations = list(product(*param_grid.values()))\n",
        "param_names = list(param_grid.keys())\n",
        "\n",
        "best_params = None\n",
        "best_profit = -np.inf\n",
        "no_improvement_counter = 0\n",
        "max_no_improvement = 10  # Stop after 10 iterations without improvement\n",
        "\n",
        "for param_values in param_combinations:\n",
        "    if no_improvement_counter >= max_no_improvement:\n",
        "        break\n",
        "\n",
        "    params = dict(zip(param_names, param_values))\n",
        "\n",
        "    # Set up Cerebro\n",
        "    cerebro = bt.Cerebro()\n",
        "    cerebro.addstrategy(NapoleonEA, **params)\n",
        "    cerebro.adddata(data_feed)\n",
        "    cerebro.broker.set_cash(10000)\n",
        "    cerebro.broker.setcommission(commission=0.0002)\n",
        "    cerebro.addsizer(bt.sizers.FixedSize, stake=1)\n",
        "\n",
        "    # Run the strategy\n",
        "    results = cerebro.run()\n",
        "    final_value = cerebro.broker.getvalue()\n",
        "\n",
        "    # Check for best performance\n",
        "    if final_value > best_profit:\n",
        "        best_profit = final_value\n",
        "        best_params = params\n",
        "        no_improvement_counter = 0\n",
        "    else:\n",
        "        no_improvement_counter += 1\n",
        "\n",
        "print('Best Parameters:', best_params)\n",
        "print('Best Final Value:', best_profit)\n",
        "\n",
        "# Save best parameters to JSON\n",
        "results = {\n",
        "    'best_params': best_params,\n",
        "    'best_final_value': best_profit\n",
        "}\n",
        "\n",
        "with open('optimization_results.json', 'w') as f:\n",
        "    json.dump(results, f, indent=4)"
      ],
      "metadata": {
        "id": "KJT3fYzp1e3I"
      },
      "execution_count": null,
      "outputs": []
    }
  ]
}